{
 "cells": [
  {
   "cell_type": "code",
   "execution_count": 1,
   "id": "85d1f58a",
   "metadata": {
    "execution": {
     "iopub.execute_input": "2024-07-19T03:00:38.498705Z",
     "iopub.status.busy": "2024-07-19T03:00:38.498705Z",
     "iopub.status.idle": "2024-07-19T03:00:39.073575Z",
     "shell.execute_reply": "2024-07-19T03:00:39.073575Z"
    }
   },
   "outputs": [
    {
     "name": "stderr",
     "output_type": "stream",
     "text": [
      "ERROR:Couldn't resolve reference to Type 'Real'. (1.sysml line : 13 column : 31)\r\n",
      "ERROR:Couldn't resolve reference to Type 'String'. (1.sysml line : 14 column : 29)\r\n",
      "ERROR:Couldn't resolve reference to Type 'String'. (1.sysml line : 19 column : 25)\r\n",
      "ERROR:Couldn't resolve reference to Type 'Real'. (1.sysml line : 25 column : 29)\r\n",
      "ERROR:Couldn't resolve reference to Type 'String'. (1.sysml line : 30 column : 29)\r\n",
      "ERROR:An attribute must be typed by attribute definitions. (1.sysml line : 13 column : 9)\r\n",
      "ERROR:An attribute must be typed by attribute definitions. (1.sysml line : 14 column : 9)\r\n",
      "ERROR:An attribute must be typed by attribute definitions. (1.sysml line : 19 column : 9)\r\n",
      "ERROR:An attribute must be typed by attribute definitions. (1.sysml line : 25 column : 9)\r\n",
      "ERROR:An attribute must be typed by attribute definitions. (1.sysml line : 30 column : 9)\r\n"
     ]
    },
    {
     "data": {
      "text/plain": []
     },
     "execution_count": 1,
     "metadata": {},
     "output_type": "execute_result"
    }
   ],
   "source": [
    "package CarSystem {\n",
    "    part def Car {\n",
    "        part engine: Engine;\n",
    "        part transmission: Transmission;\n",
    "        part wheels: Wheel[4];\n",
    "        part chassis: Chassis;\n",
    "\n",
    "        // Relationships and connectors would be defined here\n",
    "        // For instance, energy flow, physical attachment, etc.\n",
    "    }\n",
    "\n",
    "    part def Engine {\n",
    "        attribute horsepower: Real;\n",
    "        attribute fuelType: String;\n",
    "        // Additional engine specifications\n",
    "    }\n",
    "\n",
    "    part def Transmission {\n",
    "        attribute type: String;\n",
    "        // Gear, automatic, CVT, etc.\n",
    "        // Additional transmission details\n",
    "    }\n",
    "\n",
    "    part def Wheel {\n",
    "        attribute diameter: Real;\n",
    "        // Additional wheel features\n",
    "    }\n",
    "\n",
    "    part def Chassis {\n",
    "        attribute material: String;\n",
    "        // Type of materials used, structural information\n",
    "    }\n",
    "}\n"
   ]
  },
  {
   "cell_type": "code",
   "execution_count": 2,
   "id": "9c593554",
   "metadata": {
    "execution": {
     "iopub.execute_input": "2024-07-19T03:00:39.130649Z",
     "iopub.status.busy": "2024-07-19T03:00:39.130649Z",
     "iopub.status.idle": "2024-07-19T03:00:39.136647Z",
     "shell.execute_reply": "2024-07-19T03:00:39.136647Z"
    }
   },
   "outputs": [
    {
     "data": {
      "text/plain": [
       "ERROR:Couldn't resolve reference to Element 'CarSystem'\n"
      ]
     },
     "execution_count": 2,
     "metadata": {},
     "output_type": "execute_result"
    }
   ],
   "source": [
    "%viz --view=tree CarSystem"
   ]
  }
 ],
 "metadata": {
  "language_info": {
   "codemirror_mode": "sysml",
   "file_extension": ".sysml",
   "mimetype": "text/x-sysml",
   "name": "SysML",
   "pygments_lexer": "java",
   "version": "1.0.0"
  }
 },
 "nbformat": 4,
 "nbformat_minor": 5
}
